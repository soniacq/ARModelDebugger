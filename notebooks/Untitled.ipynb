{
 "cells": [
  {
   "cell_type": "code",
   "execution_count": 3,
   "id": "7557538f-2fa6-4572-b5b5-a03b3ca5261f",
   "metadata": {},
   "outputs": [
    {
     "name": "stdout",
     "output_type": "stream",
     "text": [
      "Filtered data saved to 'output.json'\n"
     ]
    }
   ],
   "source": [
    "import json\n",
    "\n",
    "path = '/Users/soniacq/PTG/ARModelDebugger/data/'\n",
    "# Read the JSON file\n",
    "with open(path + 'formatted_mission_log_seconds.json', 'r') as file:\n",
    "    data = json.load(file)\n",
    "\n",
    "# Filter the desired attributes\n",
    "filtered_data = []\n",
    "for entry in data:\n",
    "    filtered_entry = {\n",
    "        \"subject_id\": entry[\"subject_id\"],\n",
    "        \"trial_id\": entry[\"trial_id\"],\n",
    "        \"data\": []\n",
    "    }\n",
    "    for log in entry[\"data\"]:\n",
    "        filtered_log = {\n",
    "            # \"timestamp\": log[\"timestamp\"],\n",
    "            \"FlightPhase\": log[\"FlightPhase\"],\n",
    "            \"Step\": log[\"Step\"],\n",
    "            \"Error\": log[\"Error\"],\n",
    "            \"seconds\": log[\"seconds\"]\n",
    "        }\n",
    "        filtered_entry[\"data\"].append(filtered_log)\n",
    "    filtered_data.append(filtered_entry)\n",
    "\n",
    "# Save the filtered data to a new JSON file\n",
    "with open(path + 'formatted_mission_log_seconds_reduced.json', 'w') as file:\n",
    "    json.dump(filtered_data, file, indent=4)\n",
    "\n",
    "print(\"Filtered data saved to 'output.json'\")\n"
   ]
  },
  {
   "cell_type": "code",
   "execution_count": 4,
   "id": "b987c235-383f-494a-b00b-4b8bdea03e61",
   "metadata": {},
   "outputs": [
    {
     "name": "stdout",
     "output_type": "stream",
     "text": [
      "Filtered data saved to 'output.json'\n"
     ]
    }
   ],
   "source": [
    "\n",
    "import json\n",
    "\n",
    "path = '/Users/soniacq/PTG/ARModelDebugger/data/'\n",
    "# Read the JSON file\n",
    "with open(path + 'FNIRS_sampled.json', 'r') as file:\n",
    "    data = json.load(file)\n",
    "\n",
    "# Filter the desired attributes\n",
    "filtered_data = []\n",
    "for entry in data:\n",
    "    filtered_entry = {\n",
    "        \"subject_id\": entry[\"subject_id\"],\n",
    "        \"trial_id\": entry[\"trial_id\"],\n",
    "        \"data\": []\n",
    "    }\n",
    "    for log in entry[\"data\"]:\n",
    "        filtered_log = {\n",
    "            # \"timestamp\": log[\"timestamp\"],\n",
    "            \"attention_classification\": log[\"attention_classification\"],\n",
    "            \"attention_confidence\": log[\"attention_confidence\"],\n",
    "            \"seconds\": log[\"seconds\"]\n",
    "        }\n",
    "        filtered_entry[\"data\"].append(filtered_log)\n",
    "    filtered_data.append(filtered_entry)\n",
    "\n",
    "# Save the filtered data to a new JSON file\n",
    "with open(path + 'FNIRS_sampled_reduced.json', 'w') as file:\n",
    "    json.dump(filtered_data, file, indent=4)\n",
    "\n",
    "print(\"Filtered data saved to 'output.json'\")\n"
   ]
  },
  {
   "cell_type": "code",
   "execution_count": 5,
   "id": "b17652d8-6066-41b5-a8c4-62b0d3e5df57",
   "metadata": {},
   "outputs": [
    {
     "name": "stdout",
     "output_type": "stream",
     "text": [
      "Unique Subjects: {4352, 8708, 293, 8101, 9636, 5482, 7921}\n",
      "Unique Trials: {2, 3, 4, 5, 6, 7, 8, 10, 11, 12, 13, 15, 16, 17, 19, 20, 23, 24, 27, 31, 33}\n"
     ]
    }
   ],
   "source": [
    "import json\n",
    "\n",
    "def compute_unique_data(json_file):\n",
    "    with open(json_file, 'r') as file:\n",
    "        data = json.load(file)\n",
    "\n",
    "    unique_subjects = set()\n",
    "    unique_trials = set()\n",
    "\n",
    "    for entry in data:\n",
    "        unique_subjects.add(entry[\"subject_id\"])\n",
    "        unique_trials.add(entry[\"trial_id\"])\n",
    "\n",
    "    return unique_subjects, unique_trials\n",
    "\n",
    "# Example usage\n",
    "json_file = path + 'formatted_mission_log_seconds.json'\n",
    "unique_subjects, unique_trials = compute_unique_data(json_file)\n",
    "\n",
    "print(f\"Unique Subjects: {unique_subjects}\")\n",
    "print(f\"Unique Trials: {unique_trials}\")\n"
   ]
  },
  {
   "cell_type": "code",
   "execution_count": 7,
   "id": "9e71d615-62a5-4fde-a2d1-af1b20fd825c",
   "metadata": {},
   "outputs": [
    {
     "name": "stdout",
     "output_type": "stream",
     "text": [
      "Unique Subjects: [4352, 8708, 293, 8101, 9636, 5482, 7921]\n",
      "Unique Trials: [2, 3, 4, 5, 6, 7, 8, 10, 11, 12, 13, 15, 16, 17, 19, 20, 23, 24, 27, 31, 33]\n"
     ]
    }
   ],
   "source": [
    "import json\n",
    "\n",
    "def compute_unique_data(json_file):\n",
    "    with open(json_file, 'r') as file:\n",
    "        data = json.load(file)\n",
    "\n",
    "    unique_subjects = list({entry[\"subject_id\"] for entry in data})\n",
    "    unique_trials = list({entry[\"trial_id\"] for entry in data})\n",
    "\n",
    "    return unique_subjects, unique_trials\n",
    "\n",
    "# Example usage\n",
    "json_file = path + 'formatted_mission_log_seconds.json'\n",
    "unique_subjects, unique_trials = compute_unique_data(json_file)\n",
    "\n",
    "print(f\"Unique Subjects: {unique_subjects}\")\n",
    "print(f\"Unique Trials: {unique_trials}\")\n"
   ]
  },
  {
   "cell_type": "code",
   "execution_count": 9,
   "id": "7327fdf1-9676-4a98-b059-7808f37098ce",
   "metadata": {},
   "outputs": [
    {
     "name": "stdout",
     "output_type": "stream",
     "text": [
      "Filtered data saved to '/Users/soniacq/PTG/ARModelDebugger/data/sessions_metadata_reduced.json'\n"
     ]
    }
   ],
   "source": [
    "import json\n",
    "\n",
    "def filter_duration_seconds(json_file, output_file):\n",
    "    with open(json_file, 'r') as file:\n",
    "        data = json.load(file)\n",
    "\n",
    "    filtered_data = {}\n",
    "\n",
    "    for subject_id, trials in data.items():\n",
    "        filtered_data[subject_id] = {}\n",
    "        for trial_id, details in trials.items():\n",
    "            filtered_data[subject_id][trial_id] = {\n",
    "                \"duration_seconds\": details[\"duration_seconds\"]\n",
    "            }\n",
    "\n",
    "    with open(output_file, 'w') as file:\n",
    "        json.dump(filtered_data, file, indent=4)\n",
    "\n",
    "# Example usage\n",
    "input_file = path + 'sessions_metadata.json'\n",
    "output_file = path + 'sessions_metadata_reduced.json'\n",
    "filter_duration_seconds(input_file, output_file)\n",
    "\n",
    "print(f\"Filtered data saved to '{output_file}'\")\n"
   ]
  },
  {
   "cell_type": "code",
   "execution_count": 10,
   "id": "eefcbe2f-c30f-4752-90ab-7c18ad66f20d",
   "metadata": {},
   "outputs": [
    {
     "name": "stdout",
     "output_type": "stream",
     "text": [
      "Filtered data saved to '/Users/soniacq/PTG/ARModelDebugger/data/formatted_mission_log_seconds_reduced_293.json'\n"
     ]
    }
   ],
   "source": [
    "import json\n",
    "\n",
    "def filter_subject_data(json_file, subject_id, output_file):\n",
    "    with open(json_file, 'r') as file:\n",
    "        data = json.load(file)\n",
    "    \n",
    "    filtered_data = [entry for entry in data if entry['subject_id'] == subject_id]\n",
    "\n",
    "    with open(output_file, 'w') as file:\n",
    "        json.dump(filtered_data, file, indent=4)\n",
    "\n",
    "# Example usage\n",
    "input_file = path + 'formatted_mission_log_seconds_reduced.json'\n",
    "output_file = path + 'formatted_mission_log_seconds_reduced_293.json'\n",
    "subject_id = 293\n",
    "filter_subject_data(input_file, subject_id, output_file)\n",
    "\n",
    "print(f\"Filtered data saved to '{output_file}'\")"
   ]
  },
  {
   "cell_type": "code",
   "execution_count": 11,
   "id": "a5fa6dab-12d5-4d2f-b2cc-9842d327eb4a",
   "metadata": {},
   "outputs": [
    {
     "name": "stdout",
     "output_type": "stream",
     "text": [
      "Filtered data saved to '/Users/soniacq/PTG/ARModelDebugger/data/FNIRS_sampled_reduced_293.json'\n"
     ]
    }
   ],
   "source": [
    "# Example usage\n",
    "input_file = path + 'FNIRS_sampled_reduced.json'\n",
    "output_file = path + 'FNIRS_sampled_reduced_293.json'\n",
    "subject_id = 293\n",
    "filter_subject_data(input_file, subject_id, output_file)\n",
    "\n",
    "print(f\"Filtered data saved to '{output_file}'\")"
   ]
  },
  {
   "cell_type": "code",
   "execution_count": null,
   "id": "b0720c22-abee-46bf-a1d3-306094310060",
   "metadata": {},
   "outputs": [],
   "source": []
  }
 ],
 "metadata": {
  "kernelspec": {
   "display_name": "Python 3 (ipykernel)",
   "language": "python",
   "name": "python3"
  },
  "language_info": {
   "codemirror_mode": {
    "name": "ipython",
    "version": 3
   },
   "file_extension": ".py",
   "mimetype": "text/x-python",
   "name": "python",
   "nbconvert_exporter": "python",
   "pygments_lexer": "ipython3",
   "version": "3.12.3"
  }
 },
 "nbformat": 4,
 "nbformat_minor": 5
}
